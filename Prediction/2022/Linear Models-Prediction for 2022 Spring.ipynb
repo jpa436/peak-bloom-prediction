{
 "cells": [
  {
   "cell_type": "markdown",
   "id": "f70f276c",
   "metadata": {},
   "source": [
    "# Data Preprocessing"
   ]
  },
  {
   "cell_type": "code",
   "execution_count": 1,
   "id": "ef72d1f1",
   "metadata": {
    "scrolled": true
   },
   "outputs": [],
   "source": [
    "import numpy as np\n",
    "import pandas as pd\n",
    "import os\n",
    "os.chdir('./data')\n",
    "import scipy\n",
    "import matplotlib.pyplot as plt\n",
    "import warnings\n",
    "warnings.filterwarnings('ignore')\n",
    "\n",
    "\n",
    "df = pd.read_csv('./lee.csv')\n",
    "# defining quadratic and interaction terms\n",
    "df['year.sq'] = df.year**2\n",
    "\n",
    "\n",
    "\n",
    "\n",
    "# between metoerology variables\n",
    "\n",
    "df['tavg.1tavg_below_5'] = df['tavg.1']*df.tavg_below_5 \n",
    "df['prcp.0tavg_below_5'] = df['prcp.0']*df.tavg_below_5\n",
    "df['tavg.0tmax.2'] = df['tavg.0']*df['tmax.2'] \n",
    "df['prcp.-2prcp.2'] = df['prcp.-2']*df['prcp.2']\n",
    "df['prcp.-2prcp.0'] = df['prcp.-2']*df['prcp.0']\n",
    "df['tavg.0prcp.2'] = df['tavg.0']*df['prcp.2']\n",
    "df['Date_doy_tmaxDate_doy_tmin'] = df['Date_doy_tmax']*df['Date_doy_tmin']\n",
    "df['tmin_movingtmin.1'] = df['tmin_moving']*df['tmin.1']\n",
    "df['tavg_below_5prcp.2'] = df['tavg_below_5']*df['prcp.2']\n",
    "df['tavg.0prcp.2'] = df['tavg.0']*df['prcp.2']\n",
    "df['prcp.-1tmax.3'] = df['prcp.-1']*df['tmax.3']\n",
    "\n",
    "\n",
    "\n",
    "# between met and geography\n",
    "\n",
    "df['tavg_above_10lat'] = df['lat']*df['tavg_above_10']\n",
    "df['prcp.1alt'] = df['prcp.1']*df['alt']\n",
    "df['tmin.-1long.y'] = df['tmin.-1']*df['long.y']\n",
    "df['alttavg_moving'] = df['alt']*df['tavg_moving']\n",
    "\n",
    "\n",
    "# between geography\n",
    "\n",
    "df['latlong.y'] = df['lat']*df['long.y']\n",
    "df['long.ylong.x'] = df['long.y']*df['long.x']\n",
    "\n",
    "\n",
    "\n",
    "\n",
    "\n",
    "\n",
    "# # selecting covariates to be used in the model\n",
    "\n",
    "\n",
    "\n",
    "X_full = df[['lat', 'alt', 'long.y', 'long.x', 'year', 'year.sq',\n",
    "       'Date_doy_tavg', 'Date_doy_tmax', 'Date_doy_tmin', \n",
    "        'tavg_below_5','tavg_above_10', \n",
    "       'tavg_moving', 'tmin_moving', 'tmax_moving', \n",
    "        'prcp.-2', 'prcp.-1', 'prcp.0', 'prcp.1', 'prcp.2', \n",
    "       'tavg.-2', 'tavg.-1', 'tavg.0', 'tavg.1', 'tavg.2', \n",
    "        'tmax.-2', 'tmax.-1', 'tmax.0', 'tmax.1', 'tmax.2',\n",
    "       'tmin.-2', 'tmin.-1', 'tmin.0', 'tmin.1', 'tmin.2', \n",
    "       'slope', 'dg2_coef', 'intc', \n",
    "        'tavg.3', 'tmin.3', 'tmax.3', \n",
    "       'tavg.1tavg_below_5', 'tavg.0tmax.2', 'prcp.-2prcp.2', 'prcp.-2prcp.0',\n",
    "       'tavg.0prcp.2', 'Date_doy_tmaxDate_doy_tmin', 'tmin_movingtmin.1',\n",
    "       'tavg_below_5prcp.2', 'prcp.-1tmax.3', 'tavg_above_10lat', 'prcp.1alt',\n",
    "       'tmin.-1long.y', 'alttavg_moving', 'latlong.y', 'long.ylong.x']]\n",
    "\n",
    "y = df.bloom_doy\n",
    "\n",
    "train = df"
   ]
  },
  {
   "cell_type": "code",
   "execution_count": 2,
   "id": "4f92f2d3",
   "metadata": {},
   "outputs": [],
   "source": [
    "df = pd.read_csv('./test_final.csv')\n",
    "# defining quadratic and interaction terms\n",
    "df['year.sq'] = df.year**2\n",
    "\n",
    "\n",
    "\n",
    "\n",
    "# between metoerology variables\n",
    "\n",
    "df['tavg.1tavg_below_5'] = df['tavg.1']*df.tavg_below_5 \n",
    "df['prcp.0tavg_below_5'] = df['prcp.0']*df.tavg_below_5\n",
    "df['tavg.0tmax.2'] = df['tavg.0']*df['tmax.2'] \n",
    "df['prcp.-2prcp.2'] = df['prcp.-2']*df['prcp.2']\n",
    "df['prcp.-2prcp.0'] = df['prcp.-2']*df['prcp.0']\n",
    "df['tavg.0prcp.2'] = df['tavg.0']*df['prcp.2']\n",
    "df['Date_doy_tmaxDate_doy_tmin'] = df['Date_doy_tmax']*df['Date_doy_tmin']\n",
    "df['tmin_movingtmin.1'] = df['tmin_moving']*df['tmin.1']\n",
    "df['tavg_below_5prcp.2'] = df['tavg_below_5']*df['prcp.2']\n",
    "df['tavg.0prcp.2'] = df['tavg.0']*df['prcp.2']\n",
    "df['prcp.-1tmax.3'] = df['prcp.-1']*df['tmax.3']\n",
    "\n",
    "\n",
    "\n",
    "# between met and geography\n",
    "\n",
    "df['tavg_above_10lat'] = df['lat']*df['tavg_above_10']\n",
    "df['prcp.1alt'] = df['prcp.1']*df['alt']\n",
    "df['tmin.-1long.y'] = df['tmin.-1']*df['long.y']\n",
    "df['alttavg_moving'] = df['alt']*df['tavg_moving']\n",
    "\n",
    "\n",
    "# between geography\n",
    "\n",
    "df['latlong.y'] = df['lat']*df['long.y']\n",
    "df['long.ylong.x'] = df['long.y']*df['long.x']\n",
    "\n",
    "\n",
    "\n",
    "\n",
    "\n",
    "\n",
    "# # selecting covariates to be used in the model\n",
    "\n",
    "\n",
    "\n",
    "X_test = df[['lat', 'alt', 'long.y', 'long.x', 'year', 'year.sq',\n",
    "       'Date_doy_tavg', 'Date_doy_tmax', 'Date_doy_tmin', \n",
    "        'tavg_below_5','tavg_above_10', \n",
    "       'tavg_moving', 'tmin_moving', 'tmax_moving', \n",
    "        'prcp.-2', 'prcp.-1', 'prcp.0', 'prcp.1', 'prcp.2', \n",
    "       'tavg.-2', 'tavg.-1', 'tavg.0', 'tavg.1', 'tavg.2', \n",
    "        'tmax.-2', 'tmax.-1', 'tmax.0', 'tmax.1', 'tmax.2',\n",
    "       'tmin.-2', 'tmin.-1', 'tmin.0', 'tmin.1', 'tmin.2', \n",
    "       'slope', 'dg2_coef', 'intc', \n",
    "        'tavg.3', 'tmin.3', 'tmax.3', \n",
    "       'tavg.1tavg_below_5', 'tavg.0tmax.2', 'prcp.-2prcp.2', 'prcp.-2prcp.0',\n",
    "       'tavg.0prcp.2', 'Date_doy_tmaxDate_doy_tmin', 'tmin_movingtmin.1',\n",
    "       'tavg_below_5prcp.2', 'prcp.-1tmax.3', 'tavg_above_10lat', 'prcp.1alt',\n",
    "       'tmin.-1long.y', 'alttavg_moving', 'latlong.y', 'long.ylong.x']]\n",
    "\n"
   ]
  },
  {
   "cell_type": "markdown",
   "id": "dee69ddd",
   "metadata": {},
   "source": [
    "alpha is 0.25"
   ]
  },
  {
   "cell_type": "markdown",
   "id": "117ffd7d",
   "metadata": {},
   "source": [
    "## Scale the covariates and fit both ridge and lasso"
   ]
  },
  {
   "cell_type": "code",
   "execution_count": 3,
   "id": "9b2adf46",
   "metadata": {},
   "outputs": [],
   "source": [
    "from sklearn.preprocessing import StandardScaler\n",
    "from sklearn.pipeline import make_pipeline, Pipeline\n",
    "from sklearn.linear_model import Ridge, Lasso\n",
    "\n",
    "scaler = StandardScaler()\n",
    "ridge = Ridge(alpha = 0.251)\n",
    "scaler.fit(X_full)\n",
    "X_train_scale = scaler.transform(X_full)\n",
    "X_test_scale = scaler.transform(X_test)"
   ]
  },
  {
   "cell_type": "code",
   "execution_count": 4,
   "id": "3f186a82",
   "metadata": {},
   "outputs": [
    {
     "data": {
      "text/plain": [
       "Ridge(alpha=0.251)"
      ]
     },
     "execution_count": 4,
     "metadata": {},
     "output_type": "execute_result"
    }
   ],
   "source": [
    "ridge.fit(X_train_scale, y)"
   ]
  },
  {
   "cell_type": "code",
   "execution_count": 6,
   "id": "739e247f",
   "metadata": {
    "scrolled": true
   },
   "outputs": [
    {
     "data": {
      "text/plain": [
       "array([ 96.38618824,  89.34704008, 127.80926577,  89.96763746])"
      ]
     },
     "execution_count": 6,
     "metadata": {},
     "output_type": "execute_result"
    }
   ],
   "source": [
    "ridge.predict(X_test_scale)"
   ]
  },
  {
   "cell_type": "code",
   "execution_count": 9,
   "id": "86bca7f7",
   "metadata": {},
   "outputs": [
    {
     "data": {
      "text/html": [
       "<div>\n",
       "<style scoped>\n",
       "    .dataframe tbody tr th:only-of-type {\n",
       "        vertical-align: middle;\n",
       "    }\n",
       "\n",
       "    .dataframe tbody tr th {\n",
       "        vertical-align: top;\n",
       "    }\n",
       "\n",
       "    .dataframe thead th {\n",
       "        text-align: right;\n",
       "    }\n",
       "</style>\n",
       "<table border=\"1\" class=\"dataframe\">\n",
       "  <thead>\n",
       "    <tr style=\"text-align: right;\">\n",
       "      <th></th>\n",
       "      <th>location</th>\n",
       "      <th>predicted bloom doy</th>\n",
       "    </tr>\n",
       "  </thead>\n",
       "  <tbody>\n",
       "    <tr>\n",
       "      <th>0</th>\n",
       "      <td>kyoto</td>\n",
       "      <td>96.386188</td>\n",
       "    </tr>\n",
       "    <tr>\n",
       "      <th>1</th>\n",
       "      <td>liestal</td>\n",
       "      <td>89.347040</td>\n",
       "    </tr>\n",
       "    <tr>\n",
       "      <th>2</th>\n",
       "      <td>vancouver</td>\n",
       "      <td>127.809266</td>\n",
       "    </tr>\n",
       "    <tr>\n",
       "      <th>3</th>\n",
       "      <td>washingtondc</td>\n",
       "      <td>89.967637</td>\n",
       "    </tr>\n",
       "  </tbody>\n",
       "</table>\n",
       "</div>"
      ],
      "text/plain": [
       "       location  predicted bloom doy\n",
       "0         kyoto            96.386188\n",
       "1       liestal            89.347040\n",
       "2     vancouver           127.809266\n",
       "3  washingtondc            89.967637"
      ]
     },
     "execution_count": 9,
     "metadata": {},
     "output_type": "execute_result"
    }
   ],
   "source": [
    "pd.DataFrame(zip(df.location, ridge.predict(X_test_scale)), columns = ['location','predicted bloom doy'])"
   ]
  }
 ],
 "metadata": {
  "kernelspec": {
   "display_name": "Python 3",
   "language": "python",
   "name": "python3"
  },
  "language_info": {
   "codemirror_mode": {
    "name": "ipython",
    "version": 3
   },
   "file_extension": ".py",
   "mimetype": "text/x-python",
   "name": "python",
   "nbconvert_exporter": "python",
   "pygments_lexer": "ipython3",
   "version": "3.8.8"
  }
 },
 "nbformat": 4,
 "nbformat_minor": 5
}

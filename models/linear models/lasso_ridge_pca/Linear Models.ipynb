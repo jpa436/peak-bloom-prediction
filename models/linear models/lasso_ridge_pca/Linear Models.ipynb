{
 "cells": [
  {
   "cell_type": "code",
   "execution_count": 1,
   "id": "ef72d1f1",
   "metadata": {},
   "outputs": [],
   "source": [
    "import numpy as np\n",
    "import pandas as pd\n",
    "import os\n",
    "os.chdir('./data')\n",
    "import scipy\n",
    "import matplotlib.pyplot as plt\n",
    "\n",
    "\n",
    "\n",
    "df = pd.read_csv('./lee.csv')\n",
    "# defining quadratic and interaction terms\n",
    "df['year.sq'] = df.year**2\n",
    "\n",
    "\n",
    "\n",
    "\n",
    "# between metoerology variables\n",
    "\n",
    "df['tavg.1tavg_below_5'] = df['tavg.1']*df.tavg_below_5 \n",
    "df['prcp.0tavg_below_5'] = df['prcp.0']*df.tavg_below_5\n",
    "df['tavg.0tmax.2'] = df['tavg.0']*df['tmax.2'] \n",
    "df['prcp.-2prcp.2'] = df['prcp.-2']*df['prcp.2']\n",
    "df['prcp.-2prcp.0'] = df['prcp.-2']*df['prcp.0']\n",
    "df['tavg.0prcp.2'] = df['tavg.0']*df['prcp.2']\n",
    "df['Date_doy_tmaxDate_doy_tmin'] = df['Date_doy_tmax']*df['Date_doy_tmin']\n",
    "df['tmin_movingtmin.1'] = df['tmin_moving']*df['tmin.1']\n",
    "df['tavg_below_5prcp.2'] = df['tavg_below_5']*df['prcp.2']\n",
    "df['tavg.0prcp.2'] = df['tavg.0']*df['prcp.2']\n",
    "df['prcp.-1tmax.3'] = df['prcp.-1']*df['tmax.3']\n",
    "\n",
    "\n",
    "\n",
    "# between met and geography\n",
    "\n",
    "df['tavg_above_10lat'] = df['lat']*df['tavg_above_10']\n",
    "df['prcp.1alt'] = df['prcp.1']*df['alt']\n",
    "df['tmin.-1long.y'] = df['tmin.-1']*df['long.y']\n",
    "df['alttavg_moving'] = df['alt']*df['tavg_moving']\n",
    "\n",
    "\n",
    "# between geography\n",
    "\n",
    "df['latlong.y'] = df['lat']*df['long.y']\n",
    "df['long.ylong.x'] = df['long.y']*df['long.x']\n",
    "\n",
    "\n",
    "\n",
    "\n",
    "\n",
    "\n",
    "# # selecting covariates to be used in the model\n",
    "\n",
    "\n",
    "\n",
    "X_full = df[['lat', 'alt', 'long.y', 'long.x', 'year', 'year.sq',\n",
    "       'Date_doy_tavg', 'Date_doy_tmax', 'Date_doy_tmin', \n",
    "        'tavg_below_5','tavg_above_10', \n",
    "       'tavg_moving', 'tmin_moving', 'tmax_moving', \n",
    "        'prcp.-2', 'prcp.-1', 'prcp.0', 'prcp.1', 'prcp.2', \n",
    "       'tavg.-2', 'tavg.-1', 'tavg.0', 'tavg.1', 'tavg.2', \n",
    "        'tmax.-2', 'tmax.-1', 'tmax.0', 'tmax.1', 'tmax.2',\n",
    "       'tmin.-2', 'tmin.-1', 'tmin.0', 'tmin.1', 'tmin.2', \n",
    "       'slope', 'dg2_coef', 'intc', \n",
    "        'tavg.3', 'tmin.3', 'tmax.3', \n",
    "       'tavg.1tavg_below_5', 'tavg.0tmax.2', 'prcp.-2prcp.2', 'prcp.-2prcp.0',\n",
    "       'tavg.0prcp.2', 'Date_doy_tmaxDate_doy_tmin', 'tmin_movingtmin.1',\n",
    "       'tavg_below_5prcp.2', 'prcp.-1tmax.3', 'tavg_above_10lat', 'prcp.1alt',\n",
    "       'tmin.-1long.y', 'alttavg_moving', 'latlong.y', 'long.ylong.x']]\n",
    "\n",
    "y = df.bloom_doy"
   ]
  },
  {
   "cell_type": "code",
   "execution_count": 2,
   "id": "b70858eb",
   "metadata": {},
   "outputs": [],
   "source": [
    "from sklearn.metrics import make_scorer\n",
    "from sklearn.metrics import mean_squared_error\n",
    "from sklearn.model_selection import ShuffleSplit\n",
    "from sklearn.model_selection import GridSearchCV\n",
    "from sklearn.model_selection import cross_val_score\n",
    "\n",
    "mse = make_scorer(mean_squared_error, greater_is_better = False )\n",
    "cv = ShuffleSplit(n_splits=20, test_size=0.3)\n"
   ]
  },
  {
   "cell_type": "code",
   "execution_count": 3,
   "id": "50138950",
   "metadata": {},
   "outputs": [],
   "source": [
    "alphas = np.arange(0.001, 10, .25 )\n"
   ]
  },
  {
   "cell_type": "code",
   "execution_count": 4,
   "id": "daf02e50",
   "metadata": {},
   "outputs": [],
   "source": [
    "import warnings\n",
    "warnings.filterwarnings('ignore')"
   ]
  },
  {
   "cell_type": "code",
   "execution_count": 5,
   "id": "3f830c4e",
   "metadata": {},
   "outputs": [
    {
     "data": {
      "text/plain": [
       "GridSearchCV(cv=ShuffleSplit(n_splits=20, random_state=None, test_size=0.3, train_size=None),\n",
       "             estimator=Ridge(),\n",
       "             param_grid={'alpha': array([1.000e-03, 2.510e-01, 5.010e-01, 7.510e-01, 1.001e+00, 1.251e+00,\n",
       "       1.501e+00, 1.751e+00, 2.001e+00, 2.251e+00, 2.501e+00, 2.751e+00,\n",
       "       3.001e+00, 3.251e+00, 3.501e+00, 3.751e+00, 4.001e+00, 4.251e+00,\n",
       "       4.501e+00, 4.751e+00, 5.001e+00, 5.251e+00, 5.501e+00, 5.751e+00,\n",
       "       6.001e+00, 6.251e+00, 6.501e+00, 6.751e+00, 7.001e+00, 7.251e+00,\n",
       "       7.501e+00, 7.751e+00, 8.001e+00, 8.251e+00, 8.501e+00, 8.751e+00,\n",
       "       9.001e+00, 9.251e+00, 9.501e+00, 9.751e+00])},\n",
       "             scoring=make_scorer(mean_squared_error, greater_is_better=False))"
      ]
     },
     "execution_count": 5,
     "metadata": {},
     "output_type": "execute_result"
    }
   ],
   "source": [
    "from sklearn.linear_model import Lasso\n",
    "from sklearn.linear_model import Ridge\n",
    "alphas = np.arange(0.001, 10, .25 )\n",
    "parameters = {'alpha':np.arange(0.001, 10, .25 )}\n",
    "lasso = Lasso()\n",
    "lasso_grid = GridSearchCV(lasso, parameters, cv = cv, scoring = mse)\n",
    "ridge = Ridge()\n",
    "ridge_grid = GridSearchCV(ridge, parameters, cv = cv, scoring = mse)\n",
    "lasso_grid.fit(X_full, y)\n",
    "ridge_grid.fit(X_full, y)"
   ]
  },
  {
   "cell_type": "code",
   "execution_count": 6,
   "id": "d2eae0f2",
   "metadata": {},
   "outputs": [
    {
     "data": {
      "text/plain": [
       "0.001"
      ]
     },
     "execution_count": 6,
     "metadata": {},
     "output_type": "execute_result"
    }
   ],
   "source": [
    "index = np.where(lasso_grid.cv_results_['rank_test_score']==1)[0][0]\n",
    "alpha_lasso = alphas[index]\n",
    "alpha_lasso"
   ]
  },
  {
   "cell_type": "code",
   "execution_count": 7,
   "id": "7e1fa53f",
   "metadata": {},
   "outputs": [
    {
     "data": {
      "text/plain": [
       "0.001"
      ]
     },
     "execution_count": 7,
     "metadata": {},
     "output_type": "execute_result"
    }
   ],
   "source": [
    "index = np.where(ridge_grid.cv_results_['rank_test_score']==1)[0][0]\n",
    "alpha_ridge = alphas[index]\n",
    "alpha_ridge"
   ]
  },
  {
   "cell_type": "code",
   "execution_count": 8,
   "id": "80c658f3",
   "metadata": {},
   "outputs": [],
   "source": [
    "lasso = Lasso(alpha = alpha_lasso)\n",
    "ridge = Ridge(alpha = alpha_ridge)\n",
    "scoreLasso = cross_val_score(lasso, X_full, y, cv= cv, scoring = mse)\n",
    "scoreRidge = cross_val_score(ridge, X_full, y, cv = cv, scoring = mse)"
   ]
  },
  {
   "cell_type": "code",
   "execution_count": 9,
   "id": "304d4447",
   "metadata": {
    "scrolled": true
   },
   "outputs": [
    {
     "data": {
      "text/plain": [
       "(5.648485932342682, 5.88353408014353)"
      ]
     },
     "execution_count": 9,
     "metadata": {},
     "output_type": "execute_result"
    }
   ],
   "source": [
    "# mean squred error\n",
    "np.sqrt(abs(scoreLasso)).mean(), np.sqrt(abs(scoreRidge)).mean()"
   ]
  },
  {
   "cell_type": "code",
   "execution_count": 10,
   "id": "8766b4fb",
   "metadata": {
    "scrolled": true
   },
   "outputs": [
    {
     "data": {
      "text/plain": [
       "(0.18903172536195578, 0.2672479140140163)"
      ]
     },
     "execution_count": 10,
     "metadata": {},
     "output_type": "execute_result"
    }
   ],
   "source": [
    "# variance\n",
    "np.sqrt(abs(scoreLasso)).var(), np.sqrt(abs(scoreRidge)).var()"
   ]
  },
  {
   "cell_type": "markdown",
   "id": "02a75449",
   "metadata": {},
   "source": [
    "## PCA method"
   ]
  },
  {
   "cell_type": "code",
   "execution_count": 11,
   "id": "7e468b0f",
   "metadata": {},
   "outputs": [
    {
     "data": {
      "text/plain": [
       "GridSearchCV(estimator=Pipeline(steps=[('scaler', StandardScaler()),\n",
       "                                       ('pca', PCA()),\n",
       "                                       ('linear', LinearRegression())]),\n",
       "             n_jobs=2,\n",
       "             param_grid={'pca__n_components': [5, 10, 15, 20, 25, 30, 35, 40]})"
      ]
     },
     "execution_count": 11,
     "metadata": {},
     "output_type": "execute_result"
    }
   ],
   "source": [
    "from sklearn.decomposition import PCA\n",
    "from sklearn.preprocessing import StandardScaler\n",
    "from sklearn.pipeline import make_pipeline, Pipeline\n",
    "from sklearn.linear_model import LinearRegression\n",
    "scaler = StandardScaler()\n",
    "pca = PCA()\n",
    "linear = LinearRegression()\n",
    "pipe = Pipeline(steps=[(\"scaler\", scaler), (\"pca\", pca), (\"linear\", linear)])\n",
    "param_grid = {\n",
    "    \"pca__n_components\": [5, 10, 15, 20, 25, 30, 35, 40],\n",
    "}\n",
    "search = GridSearchCV(pipe, param_grid, n_jobs=2)\n",
    "search.fit(X_full, y)\n",
    "\n",
    "\n"
   ]
  },
  {
   "cell_type": "code",
   "execution_count": 12,
   "id": "124cf03d",
   "metadata": {},
   "outputs": [
    {
     "data": {
      "text/plain": [
       "7"
      ]
     },
     "execution_count": 12,
     "metadata": {},
     "output_type": "execute_result"
    }
   ],
   "source": [
    "n_comp_index = np.where(search.cv_results_['rank_test_score']==1)[0][0]\n",
    "n_comp_index"
   ]
  },
  {
   "cell_type": "code",
   "execution_count": 13,
   "id": "0b24ad41",
   "metadata": {},
   "outputs": [],
   "source": [
    "n = [5, 10, 15, 20, 25, 30, 35, 40][n_comp_index]"
   ]
  },
  {
   "cell_type": "code",
   "execution_count": 14,
   "id": "799a0ffb",
   "metadata": {},
   "outputs": [],
   "source": [
    "scaler = StandardScaler()\n",
    "pca = PCA(n_components = 40)\n",
    "linear = LinearRegression()\n",
    "pipe = Pipeline(steps=[(\"scaler\", scaler), (\"pca\", pca), (\"linear\", linear)])"
   ]
  },
  {
   "cell_type": "code",
   "execution_count": 15,
   "id": "e6d29034",
   "metadata": {},
   "outputs": [],
   "source": [
    "scorePCA = cross_val_score(pipe, X_full, y, cv= cv, scoring = mse)\n"
   ]
  },
  {
   "cell_type": "code",
   "execution_count": 16,
   "id": "db743df9",
   "metadata": {
    "scrolled": false
   },
   "outputs": [
    {
     "data": {
      "text/plain": [
       "(6.081169021549245, 0.14591921902119961)"
      ]
     },
     "execution_count": 16,
     "metadata": {},
     "output_type": "execute_result"
    }
   ],
   "source": [
    "np.sqrt(abs(scorePCA)).mean(), np.sqrt(abs(scorePCA)).var()"
   ]
  },
  {
   "cell_type": "markdown",
   "id": "28c61631",
   "metadata": {},
   "source": [
    "However, the purpose of PCA is to reduce the dimension but if we have 40 components, I don't see the benefit of using PCA."
   ]
  },
  {
   "cell_type": "code",
   "execution_count": 17,
   "id": "38fd4692",
   "metadata": {},
   "outputs": [],
   "source": [
    "scaler = StandardScaler()\n",
    "pca = PCA(n_components = 5)\n",
    "linear = LinearRegression()\n",
    "pipe = Pipeline(steps=[(\"scaler\", scaler), (\"pca\", pca), (\"linear\", linear)])\n",
    "scorePCA = cross_val_score(pipe, X_full, y, cv= cv, scoring = mse)\n"
   ]
  },
  {
   "cell_type": "code",
   "execution_count": 18,
   "id": "172d9397",
   "metadata": {},
   "outputs": [
    {
     "data": {
      "text/plain": [
       "(9.271980860354876, 0.3092042571605515)"
      ]
     },
     "execution_count": 18,
     "metadata": {},
     "output_type": "execute_result"
    }
   ],
   "source": [
    "np.sqrt(abs(scorePCA)).mean(), np.sqrt(abs(scorePCA)).var()"
   ]
  },
  {
   "cell_type": "code",
   "execution_count": null,
   "id": "9048f364",
   "metadata": {},
   "outputs": [],
   "source": []
  }
 ],
 "metadata": {
  "kernelspec": {
   "display_name": "Python 3",
   "language": "python",
   "name": "python3"
  },
  "language_info": {
   "codemirror_mode": {
    "name": "ipython",
    "version": 3
   },
   "file_extension": ".py",
   "mimetype": "text/x-python",
   "name": "python",
   "nbconvert_exporter": "python",
   "pygments_lexer": "ipython3",
   "version": "3.8.8"
  }
 },
 "nbformat": 4,
 "nbformat_minor": 5
}

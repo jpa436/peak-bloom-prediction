{
 "cells": [
  {
   "cell_type": "code",
   "execution_count": 1,
   "id": "2cf6d10f",
   "metadata": {},
   "outputs": [],
   "source": [
    "import numpy as np\n",
    "import pandas as pd\n",
    "import os\n",
    "os.chdir('./data')\n",
    "import scipy\n",
    "import matplotlib.pyplot as plt\n",
    "from sklearn.model_selection import cross_val_score\n",
    "\n",
    "df = pd.read_csv('./lee.csv')\n",
    "# defining quadratic and interaction terms\n",
    "df['year.sq'] = df.year**2\n",
    "\n",
    "\n",
    "\n",
    "\n",
    "# between metoerology variables\n",
    "\n",
    "df['tavg.1tavg_below_5'] = df['tavg.1']*df.tavg_below_5 \n",
    "df['prcp.0tavg_below_5'] = df['prcp.0']*df.tavg_below_5\n",
    "df['tavg.0tmax.2'] = df['tavg.0']*df['tmax.2'] \n",
    "df['prcp.-2prcp.2'] = df['prcp.-2']*df['prcp.2']\n",
    "df['prcp.-2prcp.0'] = df['prcp.-2']*df['prcp.0']\n",
    "df['tavg.0prcp.2'] = df['tavg.0']*df['prcp.2']\n",
    "df['Date_doy_tmaxDate_doy_tmin'] = df['Date_doy_tmax']*df['Date_doy_tmin']\n",
    "df['tmin_movingtmin.1'] = df['tmin_moving']*df['tmin.1']\n",
    "df['tavg_below_5prcp.2'] = df['tavg_below_5']*df['prcp.2']\n",
    "df['tavg.0prcp.2'] = df['tavg.0']*df['prcp.2']\n",
    "df['prcp.-1tmax.3'] = df['prcp.-1']*df['tmax.3']\n",
    "\n",
    "\n",
    "\n",
    "# between met and geography\n",
    "\n",
    "df['tavg_above_10lat'] = df['lat']*df['tavg_above_10']\n",
    "df['prcp.1alt'] = df['prcp.1']*df['alt']\n",
    "df['tmin.-1long.y'] = df['tmin.-1']*df['long.y']\n",
    "df['alttavg_moving'] = df['alt']*df['tavg_moving']\n",
    "\n",
    "\n",
    "# between geography\n",
    "\n",
    "df['latlong.y'] = df['lat']*df['long.y']\n",
    "df['long.ylong.x'] = df['long.y']*df['long.x']\n",
    "\n",
    "\n",
    "\n",
    "\n",
    "\n",
    "\n",
    "# # selecting covariates to be used in the model\n",
    "\n",
    "\n",
    "\n",
    "X_full = df[['lat', 'alt', 'long.y', 'long.x', 'year', 'year.sq',\n",
    "       'Date_doy_tavg', 'Date_doy_tmax', 'Date_doy_tmin', \n",
    "        'tavg_below_5','tavg_above_10', \n",
    "       'tavg_moving', 'tmin_moving', 'tmax_moving', \n",
    "        'prcp.-2', 'prcp.-1', 'prcp.0', 'prcp.1', 'prcp.2', \n",
    "       'tavg.-2', 'tavg.-1', 'tavg.0', 'tavg.1', 'tavg.2', \n",
    "        'tmax.-2', 'tmax.-1', 'tmax.0', 'tmax.1', 'tmax.2',\n",
    "       'tmin.-2', 'tmin.-1', 'tmin.0', 'tmin.1', 'tmin.2', \n",
    "       'slope', 'dg2_coef', 'intc', \n",
    "        'tavg.3', 'tmin.3', 'tmax.3', \n",
    "       'tavg.1tavg_below_5', 'tavg.0tmax.2', 'prcp.-2prcp.2', 'prcp.-2prcp.0',\n",
    "       'tavg.0prcp.2', 'Date_doy_tmaxDate_doy_tmin', 'tmin_movingtmin.1',\n",
    "       'tavg_below_5prcp.2', 'prcp.-1tmax.3', 'tavg_above_10lat', 'prcp.1alt',\n",
    "       'tmin.-1long.y', 'alttavg_moving', 'latlong.y', 'long.ylong.x']]\n",
    "\n",
    "y = df.bloom_doy\n"
   ]
  },
  {
   "cell_type": "markdown",
   "id": "3c53615b",
   "metadata": {},
   "source": [
    "We first select the variables to use in the model. The details of the selection process are explained in the paper."
   ]
  },
  {
   "cell_type": "markdown",
   "id": "4964690a",
   "metadata": {},
   "source": [
    "We considered the MARS because we have seen that location is a very strong predictor. In other words, we would observe different patterns or fit for each of the locations, which are described by latitude, longitude and altitude information in our dataset. In addition, we hope to find differences in year or meteorology data would also split the patterns in association between the `bloom_doy` and other covariates."
   ]
  },
  {
   "cell_type": "code",
   "execution_count": 2,
   "id": "37f9dcd5",
   "metadata": {},
   "outputs": [],
   "source": [
    "from pyearth import Earth"
   ]
  },
  {
   "cell_type": "markdown",
   "id": "d3d28eb4",
   "metadata": {},
   "source": [
    "We performed the grid search to find the optimal max_degree parameter."
   ]
  },
  {
   "cell_type": "code",
   "execution_count": 3,
   "id": "82819073",
   "metadata": {},
   "outputs": [],
   "source": [
    "from sklearn.metrics import make_scorer\n",
    "from sklearn.metrics import mean_squared_error\n",
    "from sklearn.model_selection import ShuffleSplit\n",
    "mse = make_scorer(mean_squared_error, greater_is_better = False )\n",
    "# We will create 20 different cross-validations with the train-test-split-ratio at 7 to 3.\n",
    "cv = ShuffleSplit(n_splits=20, test_size=0.3)\n",
    "from sklearn.model_selection import GridSearchCV\n",
    "parameters = {\"max_degree\" : [1,2]}"
   ]
  },
  {
   "cell_type": "code",
   "execution_count": 4,
   "id": "b3afa54d",
   "metadata": {},
   "outputs": [],
   "source": [
    "# suppress 'FutureWarning' messages\n",
    "import warnings\n",
    "warnings.filterwarnings('ignore')"
   ]
  },
  {
   "cell_type": "code",
   "execution_count": 5,
   "id": "23925e68",
   "metadata": {},
   "outputs": [
    {
     "data": {
      "text/plain": [
       "GridSearchCV(cv=ShuffleSplit(n_splits=20, random_state=None, test_size=0.3, train_size=None),\n",
       "             estimator=Earth(), param_grid={'max_degree': [1, 2]},\n",
       "             scoring=make_scorer(mean_squared_error, greater_is_better=False))"
      ]
     },
     "execution_count": 5,
     "metadata": {},
     "output_type": "execute_result"
    }
   ],
   "source": [
    "regressor = Earth()\n",
    "clf = GridSearchCV(regressor, parameters, cv = cv, scoring = mse)\n",
    "clf.fit(X_full, y)"
   ]
  },
  {
   "cell_type": "code",
   "execution_count": 6,
   "id": "ae2ad617",
   "metadata": {},
   "outputs": [
    {
     "data": {
      "text/plain": [
       "array([1, 2], dtype=int32)"
      ]
     },
     "execution_count": 6,
     "metadata": {},
     "output_type": "execute_result"
    }
   ],
   "source": [
    "clf.cv_results_['rank_test_score']"
   ]
  },
  {
   "cell_type": "markdown",
   "id": "f7d4c5e0",
   "metadata": {},
   "source": [
    "We found that the max_degree parameter is better to be 1."
   ]
  },
  {
   "cell_type": "code",
   "execution_count": 7,
   "id": "66b2b675",
   "metadata": {
    "scrolled": true
   },
   "outputs": [],
   "source": [
    "from sklearn.model_selection import cross_val_score\n",
    "regressor = Earth(smooth = True, penalty = 3)\n",
    "MARS_score = cross_val_score(regressor, X_full, y, cv= cv, scoring = mse)"
   ]
  },
  {
   "cell_type": "code",
   "execution_count": 8,
   "id": "b891b19e",
   "metadata": {},
   "outputs": [
    {
     "data": {
      "text/plain": [
       "(6.276490591327596, 0.12299216460444888)"
      ]
     },
     "execution_count": 8,
     "metadata": {},
     "output_type": "execute_result"
    }
   ],
   "source": [
    "# mean of 20 MSE and its variance\n",
    "np.sqrt(abs(MARS_score)).mean(), np.sqrt(abs(MARS_score)).var()"
   ]
  },
  {
   "cell_type": "code",
   "execution_count": 9,
   "id": "b8a3697a",
   "metadata": {},
   "outputs": [],
   "source": [
    "# Fir the final \n",
    "mars_final = regressor.fit(X_full, y)"
   ]
  },
  {
   "cell_type": "code",
   "execution_count": 10,
   "id": "c71d4b91",
   "metadata": {},
   "outputs": [
    {
     "name": "stdout",
     "output_type": "stream",
     "text": [
      "Earth Model\n",
      "----------------------------------------------------------------------------\n",
      "Basis Function                                        Pruned  Coefficient   \n",
      "----------------------------------------------------------------------------\n",
      "(Intercept)                                           No      115.416       \n",
      "C(tmax.2|s=+1,-4.57143,56.8571,115.725)               No      -0.0535534    \n",
      "C(tmax.2|s=-1,-4.57143,56.8571,115.725)               No      0.130376      \n",
      "C(tmax.3|s=+1,42.2472,126.364,165.591)                No      -0.128535     \n",
      "C(tmax.3|s=-1,42.2472,126.364,165.591)                Yes     None          \n",
      "C(long.ylong.x|s=+1,-0.176084,0.147692,0.300939)      Yes     None          \n",
      "C(long.ylong.x|s=-1,-0.176084,0.147692,0.300939)      No      -63.5343      \n",
      "C(tmax.-2|s=+1,148.819,220.992,250.448)               No      0.1196        \n",
      "C(tmax.-2|s=-1,148.819,220.992,250.448)               Yes     None          \n",
      "tavg_below_5                                          No      0.468017      \n",
      "C(tavg.0|s=+1,-12.3861,46.1682,85.6647)               No      0.158863      \n",
      "C(tavg.0|s=-1,-12.3861,46.1682,85.6647)               No      -0.180521     \n",
      "long.x                                                No      -21.8943      \n",
      "C(tmax.1|s=+1,20.4135,49.3548,103.061)                No      0.241433      \n",
      "C(tmax.1|s=-1,20.4135,49.3548,103.061)                Yes     None          \n",
      "C(tmax.-1|s=+1,48.6167,82.4667,154.159)               No      0.0781458     \n",
      "C(tmax.-1|s=-1,48.6167,82.4667,154.159)               No      -0.170574     \n",
      "C(tmin_movingtmin.1|s=+1,142.561,1862.82,17424.7)     No      -0.00020908   \n",
      "C(tmin_movingtmin.1|s=-1,142.561,1862.82,17424.7)     No      -0.0016647    \n",
      "C(tavg.1tavg_below_5|s=+1,-3238.32,-2976.65,1180.71)  No      -0.00275584   \n",
      "C(tavg.1tavg_below_5|s=-1,-3238.32,-2976.65,1180.71)  No      0.00431184    \n",
      "C(prcp.-2prcp.2|s=+1,216,432,546)                     No      -0.12285      \n",
      "C(prcp.-2prcp.2|s=-1,216,432,546)                     No      0.00390473    \n",
      "C(tavg.1|s=+1,-33.8871,38.6774,75.0645)               No      0.0853577     \n",
      "C(tavg.1|s=-1,-33.8871,38.6774,75.0645)               No      -0.502295     \n",
      "C(tavg.1tavg_below_5|s=+1,-8993.45,-3500,-3238.32)    Yes     None          \n",
      "C(tavg.1tavg_below_5|s=-1,-8993.45,-3500,-3238.32)    No      -0.000837816  \n",
      "C(tavg.0prcp.2|s=+1,-1046.68,-248.903,911.661)        Yes     None          \n",
      "C(tavg.0prcp.2|s=-1,-1046.68,-248.903,911.661)        No      0.0156378     \n",
      "C(Date_doy_tmaxDate_doy_tmin|s=+1,-527,476,2863.5)    Yes     None          \n",
      "C(Date_doy_tmaxDate_doy_tmin|s=-1,-527,476,2863.5)    No      0.00345862    \n",
      "C(tmax.1|s=+1,-38.3607,-8.52792,20.4135)              No      -0.176283     \n",
      "C(tmax.1|s=-1,-38.3607,-8.52792,20.4135)              Yes     None          \n",
      "----------------------------------------------------------------------------\n",
      "MSE: 31.2031, GCV: 37.2471, RSQ: 0.9014, GRSQ: 0.8826\n"
     ]
    }
   ],
   "source": [
    "print(mars_final.summary())"
   ]
  },
  {
   "cell_type": "code",
   "execution_count": 11,
   "id": "2035c5ee",
   "metadata": {
    "scrolled": true
   },
   "outputs": [],
   "source": [
    "# we also use the boosting method\n",
    "from sklearn.ensemble import AdaBoostRegressor\n",
    "\n",
    "boosted_model = AdaBoostRegressor(base_estimator=regressor, n_estimators=25,\n",
    "                                  learning_rate=0.1, loss=\"exponential\")\n",
    "boost_score = cross_val_score(boosted_model, X_full, y, cv= cv, scoring = mse)"
   ]
  },
  {
   "cell_type": "code",
   "execution_count": 12,
   "id": "c5326ae3",
   "metadata": {},
   "outputs": [
    {
     "data": {
      "text/plain": [
       "(5.994070880449536, 0.18176450444313832)"
      ]
     },
     "execution_count": 12,
     "metadata": {},
     "output_type": "execute_result"
    }
   ],
   "source": [
    "# mean of 20 MSE and its variance\n",
    "np.sqrt(abs(boost_score)).mean(), np.sqrt(abs(boost_score)).var()"
   ]
  }
 ],
 "metadata": {
  "kernelspec": {
   "display_name": "Python 3",
   "language": "python",
   "name": "python3"
  },
  "language_info": {
   "codemirror_mode": {
    "name": "ipython",
    "version": 3
   },
   "file_extension": ".py",
   "mimetype": "text/x-python",
   "name": "python",
   "nbconvert_exporter": "python",
   "pygments_lexer": "ipython3",
   "version": "3.8.8"
  }
 },
 "nbformat": 4,
 "nbformat_minor": 5
}

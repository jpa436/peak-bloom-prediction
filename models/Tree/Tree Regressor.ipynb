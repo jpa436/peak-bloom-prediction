{
 "cells": [
  {
   "cell_type": "markdown",
   "id": "d47d0f40",
   "metadata": {},
   "source": [
    "# Tree related models"
   ]
  },
  {
   "cell_type": "markdown",
   "id": "1f32afbf",
   "metadata": {},
   "source": [
    "####  In this tutorial, we demonstrate how we fit the tree related models, tree and random forest. "
   ]
  },
  {
   "cell_type": "code",
   "execution_count": 1,
   "id": "2c9a3c11",
   "metadata": {},
   "outputs": [],
   "source": [
    "import numpy as np\n",
    "import pandas as pd\n",
    "import os\n",
    "os.chdir('./data')\n",
    "import scipy\n",
    "import matplotlib.pyplot as plt"
   ]
  },
  {
   "cell_type": "code",
   "execution_count": 2,
   "id": "e9924481",
   "metadata": {
    "scrolled": true
   },
   "outputs": [],
   "source": [
    "df = pd.read_csv('./lee.csv')\n",
    "# defining quadratic and interaction terms\n",
    "df['year.sq'] = df.year**2\n",
    "\n",
    "\n",
    "\n",
    "\n",
    "# between metoerology variables\n",
    "\n",
    "df['tavg.1tavg_below_5'] = df['tavg.1']*df.tavg_below_5 \n",
    "df['prcp.0tavg_below_5'] = df['prcp.0']*df.tavg_below_5\n",
    "df['tavg.0tmax.2'] = df['tavg.0']*df['tmax.2'] \n",
    "df['prcp.-2prcp.2'] = df['prcp.-2']*df['prcp.2']\n",
    "df['prcp.-2prcp.0'] = df['prcp.-2']*df['prcp.0']\n",
    "df['tavg.0prcp.2'] = df['tavg.0']*df['prcp.2']\n",
    "df['Date_doy_tmaxDate_doy_tmin'] = df['Date_doy_tmax']*df['Date_doy_tmin']\n",
    "df['tmin_movingtmin.1'] = df['tmin_moving']*df['tmin.1']\n",
    "df['tavg_below_5prcp.2'] = df['tavg_below_5']*df['prcp.2']\n",
    "df['tavg.0prcp.2'] = df['tavg.0']*df['prcp.2']\n",
    "df['prcp.-1tmax.3'] = df['prcp.-1']*df['tmax.3']\n",
    "\n",
    "\n",
    "\n",
    "# between met and geography\n",
    "\n",
    "df['tavg_above_10lat'] = df['lat']*df['tavg_above_10']\n",
    "df['prcp.1alt'] = df['prcp.1']*df['alt']\n",
    "df['tmin.-1long.y'] = df['tmin.-1']*df['long.y']\n",
    "df['alttavg_moving'] = df['alt']*df['tavg_moving']\n",
    "\n",
    "\n",
    "# between geography\n",
    "\n",
    "df['latlong.y'] = df['lat']*df['long.y']\n",
    "df['long.ylong.x'] = df['long.y']*df['long.x']\n",
    "\n",
    "\n",
    "\n",
    "\n",
    "\n",
    "\n",
    "# # selecting covariates to be used in the model\n",
    "\n",
    "\n",
    "\n",
    "X_full = df[['lat', 'alt', 'long.y', 'long.x', 'year', 'year.sq',\n",
    "       'Date_doy_tavg', 'Date_doy_tmax', 'Date_doy_tmin', \n",
    "        'tavg_below_5','tavg_above_10', \n",
    "       'tavg_moving', 'tmin_moving', 'tmax_moving', \n",
    "        'prcp.-2', 'prcp.-1', 'prcp.0', 'prcp.1', 'prcp.2', \n",
    "       'tavg.-2', 'tavg.-1', 'tavg.0', 'tavg.1', 'tavg.2', \n",
    "        'tmax.-2', 'tmax.-1', 'tmax.0', 'tmax.1', 'tmax.2',\n",
    "       'tmin.-2', 'tmin.-1', 'tmin.0', 'tmin.1', 'tmin.2', \n",
    "       'slope', 'dg2_coef', 'intc', \n",
    "        'tavg.3', 'tmin.3', 'tmax.3', \n",
    "       'tavg.1tavg_below_5', 'tavg.0tmax.2', 'prcp.-2prcp.2', 'prcp.-2prcp.0',\n",
    "       'tavg.0prcp.2', 'Date_doy_tmaxDate_doy_tmin', 'tmin_movingtmin.1',\n",
    "       'tavg_below_5prcp.2', 'prcp.-1tmax.3', 'tavg_above_10lat', 'prcp.1alt',\n",
    "       'tmin.-1long.y', 'alttavg_moving', 'latlong.y', 'long.ylong.x']]\n",
    "\n",
    "y = df.bloom_doy"
   ]
  },
  {
   "cell_type": "code",
   "execution_count": 3,
   "id": "32b3e4b3",
   "metadata": {},
   "outputs": [],
   "source": [
    "from sklearn.metrics import make_scorer\n",
    "from sklearn.metrics import mean_squared_error\n",
    "from sklearn.model_selection import ShuffleSplit\n",
    "mse = make_scorer(mean_squared_error, greater_is_better = False )\n",
    "cv = ShuffleSplit(n_splits=20, test_size=0.3)"
   ]
  },
  {
   "cell_type": "markdown",
   "id": "c4382740",
   "metadata": {},
   "source": [
    "### Grid Search CV for ccp_alpha hyper-parameter"
   ]
  },
  {
   "cell_type": "markdown",
   "id": "0b982365",
   "metadata": {},
   "source": [
    "We would like to search the best `ccp_alpha` parameter for the tree model."
   ]
  },
  {
   "cell_type": "code",
   "execution_count": 4,
   "id": "4ea55b8c",
   "metadata": {},
   "outputs": [],
   "source": [
    "from sklearn.model_selection import GridSearchCV\n",
    "parameters = {'ccp_alpha':np.arange(0.01, 1.99, 0.01)}"
   ]
  },
  {
   "cell_type": "code",
   "execution_count": 5,
   "id": "ba946465",
   "metadata": {},
   "outputs": [
    {
     "data": {
      "text/plain": [
       "GridSearchCV(cv=ShuffleSplit(n_splits=20, random_state=None, test_size=0.3, train_size=None),\n",
       "             estimator=DecisionTreeRegressor(),\n",
       "             param_grid={'ccp_alpha': array([0.01, 0.02, 0.03, 0.04, 0.05, 0.06, 0.07, 0.08, 0.09, 0.1 , 0.11,\n",
       "       0.12, 0.13, 0.14, 0.15, 0.16, 0.17, 0.18, 0.19, 0.2 , 0.21, 0.22,\n",
       "       0.23, 0.24, 0.25, 0.26, 0.27, 0.28, 0.29, 0.3 , 0.31, 0.32, 0.33,\n",
       "       0.34, 0.35, 0.36, 0.37, 0.38, 0.39, 0.4...\n",
       "       1.33, 1.34, 1.35, 1.36, 1.37, 1.38, 1.39, 1.4 , 1.41, 1.42, 1.43,\n",
       "       1.44, 1.45, 1.46, 1.47, 1.48, 1.49, 1.5 , 1.51, 1.52, 1.53, 1.54,\n",
       "       1.55, 1.56, 1.57, 1.58, 1.59, 1.6 , 1.61, 1.62, 1.63, 1.64, 1.65,\n",
       "       1.66, 1.67, 1.68, 1.69, 1.7 , 1.71, 1.72, 1.73, 1.74, 1.75, 1.76,\n",
       "       1.77, 1.78, 1.79, 1.8 , 1.81, 1.82, 1.83, 1.84, 1.85, 1.86, 1.87,\n",
       "       1.88, 1.89, 1.9 , 1.91, 1.92, 1.93, 1.94, 1.95, 1.96, 1.97, 1.98])},\n",
       "             scoring=make_scorer(mean_squared_error, greater_is_better=False))"
      ]
     },
     "execution_count": 5,
     "metadata": {},
     "output_type": "execute_result"
    }
   ],
   "source": [
    "from sklearn.tree import DecisionTreeRegressor\n",
    "from sklearn.model_selection import cross_val_score\n",
    "from sklearn import tree\n",
    "regressor = DecisionTreeRegressor()\n",
    "clf = GridSearchCV(regressor, parameters, cv = cv, scoring = mse)\n",
    "clf.fit(X_full, y)"
   ]
  },
  {
   "cell_type": "code",
   "execution_count": 6,
   "id": "6794b8d5",
   "metadata": {},
   "outputs": [],
   "source": [
    "import warnings\n",
    "warnings.filterwarnings('ignore')"
   ]
  },
  {
   "cell_type": "code",
   "execution_count": 7,
   "id": "657e6e2e",
   "metadata": {},
   "outputs": [
    {
     "data": {
      "text/plain": [
       "0.92"
      ]
     },
     "execution_count": 7,
     "metadata": {},
     "output_type": "execute_result"
    }
   ],
   "source": [
    "index = np.where(clf.cv_results_['rank_test_score']==1)[0][0]\n",
    "alpha = np.arange(0.01, 1.99, 0.01)[index]\n",
    "alpha"
   ]
  },
  {
   "cell_type": "markdown",
   "id": "4fa92dff",
   "metadata": {},
   "source": [
    "#### we will now have ccp_alpha at 0.92"
   ]
  },
  {
   "cell_type": "code",
   "execution_count": 8,
   "id": "e89292d3",
   "metadata": {},
   "outputs": [],
   "source": [
    "from sklearn.ensemble import BaggingRegressor\n",
    "Bagging = BaggingRegressor(base_estimator=DecisionTreeRegressor(ccp_alpha = alpha),\n",
    "                       n_estimators=100, bootstrap_features = True)\n",
    "tree = DecisionTreeRegressor(ccp_alpha = alpha)\n",
    "scoreBagging = cross_val_score(Bagging, X_full, y, cv= cv, scoring = mse)\n",
    "scoreTree = cross_val_score(tree, X_full, y, cv = cv, scoring = mse)"
   ]
  },
  {
   "cell_type": "code",
   "execution_count": 9,
   "id": "8287b5a3",
   "metadata": {},
   "outputs": [],
   "source": [
    "from sklearn.ensemble import RandomForestRegressor\n",
    "Forest = RandomForestRegressor(ccp_alpha = alpha)\n",
    "scoreForest = cross_val_score(Forest, X_full, y, cv = cv, scoring = mse)"
   ]
  },
  {
   "cell_type": "markdown",
   "id": "5995e562",
   "metadata": {},
   "source": [
    "### Mean of RMSE for Random Froest, Tree with bagging, and Tree"
   ]
  },
  {
   "cell_type": "code",
   "execution_count": 10,
   "id": "4be5ef6f",
   "metadata": {},
   "outputs": [
    {
     "data": {
      "text/plain": [
       "(6.218766085140226, 6.1301893604802355, 7.473389530495939)"
      ]
     },
     "execution_count": 10,
     "metadata": {},
     "output_type": "execute_result"
    }
   ],
   "source": [
    "# mean squred error\n",
    "np.sqrt(abs(scoreForest.mean())), np.sqrt(abs(scoreBagging.mean())),np.sqrt(abs(scoreTree.mean()))"
   ]
  },
  {
   "cell_type": "markdown",
   "id": "6086365b",
   "metadata": {},
   "source": [
    "### Varinace of RMSE for Random Forest, Tree with bagging and Tree"
   ]
  },
  {
   "cell_type": "code",
   "execution_count": 11,
   "id": "72a4deb9",
   "metadata": {},
   "outputs": [
    {
     "data": {
      "text/plain": [
       "(0.28888109898696335, 0.16571378665374767, 0.3925702169888511)"
      ]
     },
     "execution_count": 11,
     "metadata": {},
     "output_type": "execute_result"
    }
   ],
   "source": [
    "# variance\n",
    "np.sqrt(abs(scoreForest)).var(), np.sqrt(abs(scoreBagging)).var(), np.sqrt(abs(scoreTree)).var()"
   ]
  },
  {
   "cell_type": "markdown",
   "id": "7b60f5be",
   "metadata": {},
   "source": [
    "### Mean decrease in impunity plot for five most 'important' features"
   ]
  },
  {
   "cell_type": "code",
   "execution_count": 12,
   "id": "a34798d7",
   "metadata": {},
   "outputs": [],
   "source": [
    "Forest.fit(X_full, y)\n",
    "feature_names = X_full.columns\n",
    "importances = Forest.feature_importances_\n",
    "forest_importances = pd.Series(importances, index=feature_names)\n",
    "\n",
    "forest_importances = forest_importances[forest_importances>0.01].sort_values()"
   ]
  },
  {
   "cell_type": "code",
   "execution_count": 13,
   "id": "cf9e81c3",
   "metadata": {},
   "outputs": [
    {
     "data": {
      "image/png": "[encoded data removed]",
      "text/plain": [
       "<Figure size 720x720 with 1 Axes>"
      ]
     },
     "metadata": {
      "needs_background": "light"
     },
     "output_type": "display_data"
    }
   ],
   "source": [
    "fig, ax = plt.subplots(figsize = (10,10))\n",
    "forest_importances.plot.bar(ax=ax)\n",
    "ax.set_title(\"Feature importances using MDI\")\n",
    "ax.set_ylabel(\"Mean decrease in impurity\")\n",
    "plt.show()"
   ]
  },
  {
   "cell_type": "code",
   "execution_count": 14,
   "id": "b959dd38",
   "metadata": {},
   "outputs": [],
   "source": [
    "fig.savefig('feature_importance.png')"
   ]
  }
 ],
 "metadata": {
  "kernelspec": {
   "display_name": "Python 3",
   "language": "python",
   "name": "python3"
  },
  "language_info": {
   "codemirror_mode": {
    "name": "ipython",
    "version": 3
   },
   "file_extension": ".py",
   "mimetype": "text/x-python",
   "name": "python",
   "nbconvert_exporter": "python",
   "pygments_lexer": "ipython3",
   "version": "3.8.8"
  }
 },
 "nbformat": 4,
 "nbformat_minor": 5
}
